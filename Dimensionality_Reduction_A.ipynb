{
  "cells": [
    {
      "cell_type": "code",
      "execution_count": null,
      "metadata": {
        "id": "BBtS_NZNyXOj"
      },
      "outputs": [],
      "source": [
        "import pandas as pd\n",
        "import numpy as np\n",
        "import random as rd\n",
        "from sklearn.decomposition import PCA\n",
        "from sklearn import preprocessing #scale\n",
        "import matplotlib.pyplot as plt"
      ]
    },
    {
      "cell_type": "markdown",
      "metadata": {
        "id": "QgNsEkQeyxaq"
      },
      "source": [
        "# Data Generation Code"
      ]
    },
    {
      "cell_type": "markdown",
      "metadata": {
        "id": "U2hIHsquq8zg"
      },
      "source": [
        "Ingin membangkitkan data 100 variabel dengan 2 karakteristik yang berbeda sebagai index: \"wt\" dan \"ko\".\n",
        "\n",
        "wt: Wild Type DNA\n",
        "\n",
        "ko: Knock Out DNA\n"
      ]
    },
    {
      "cell_type": "code",
      "execution_count": null,
      "metadata": {
        "colab": {
          "base_uri": "https://localhost:8080/"
        },
        "id": "SsP2Cj1Yybei",
        "outputId": "bcd34e8f-0bea-4a98-cd78-462951066d53"
      },
      "outputs": [
        {
          "output_type": "execute_result",
          "data": {
            "text/plain": [
              "['gene1', 'gene2', 'gene3']"
            ]
          },
          "metadata": {},
          "execution_count": 4
        }
      ],
      "source": [
        "genes = ['gene' + str(i) for i in range(1,101)]\n",
        "genes[:3]"
      ]
    },
    {
      "cell_type": "markdown",
      "metadata": {
        "id": "Mh8IudWzzaW1"
      },
      "source": [
        "wt= wild type samples\n",
        "\n",
        "\n",
        "ko= knock out samples\n",
        "\n",
        "wt dan ko dibangkitkan dari populasi yang berbeda"
      ]
    },
    {
      "cell_type": "code",
      "execution_count": null,
      "metadata": {
        "colab": {
          "base_uri": "https://localhost:8080/"
        },
        "id": "cg_31jkOzHUo",
        "outputId": "e7457240-02b1-43ae-9b14-96993e887a85"
      },
      "outputs": [
        {
          "output_type": "execute_result",
          "data": {
            "text/plain": [
              "['wt1', 'wt2', 'wt3']"
            ]
          },
          "metadata": {},
          "execution_count": 7
        }
      ],
      "source": [
        "wt = ['wt' + str(i) for i in range(1,11)]\n",
        "ko = ['ko' + str(i) for i in range(1,11)]\n",
        "wt[:3]"
      ]
    },
    {
      "cell_type": "code",
      "execution_count": null,
      "metadata": {
        "colab": {
          "base_uri": "https://localhost:8080/",
          "height": 206
        },
        "id": "JdSPdl7izsUP",
        "outputId": "dd40229d-1bcd-4d1c-ca94-1f8bde03ee30"
      },
      "outputs": [
        {
          "output_type": "execute_result",
          "data": {
            "text/plain": [
              "       wt1  wt2  wt3  wt4  wt5  wt6  wt7  wt8  wt9 wt10  ko1  ko2  ko3  ko4  \\\n",
              "gene1  NaN  NaN  NaN  NaN  NaN  NaN  NaN  NaN  NaN  NaN  NaN  NaN  NaN  NaN   \n",
              "gene2  NaN  NaN  NaN  NaN  NaN  NaN  NaN  NaN  NaN  NaN  NaN  NaN  NaN  NaN   \n",
              "gene3  NaN  NaN  NaN  NaN  NaN  NaN  NaN  NaN  NaN  NaN  NaN  NaN  NaN  NaN   \n",
              "gene4  NaN  NaN  NaN  NaN  NaN  NaN  NaN  NaN  NaN  NaN  NaN  NaN  NaN  NaN   \n",
              "gene5  NaN  NaN  NaN  NaN  NaN  NaN  NaN  NaN  NaN  NaN  NaN  NaN  NaN  NaN   \n",
              "\n",
              "       ko5  ko6  ko7  ko8  ko9 ko10  \n",
              "gene1  NaN  NaN  NaN  NaN  NaN  NaN  \n",
              "gene2  NaN  NaN  NaN  NaN  NaN  NaN  \n",
              "gene3  NaN  NaN  NaN  NaN  NaN  NaN  \n",
              "gene4  NaN  NaN  NaN  NaN  NaN  NaN  \n",
              "gene5  NaN  NaN  NaN  NaN  NaN  NaN  "
            ],
            "text/html": [
              "\n",
              "  <div id=\"df-27469516-c1ef-4f86-8ec7-358332bb77d7\">\n",
              "    <div class=\"colab-df-container\">\n",
              "      <div>\n",
              "<style scoped>\n",
              "    .dataframe tbody tr th:only-of-type {\n",
              "        vertical-align: middle;\n",
              "    }\n",
              "\n",
              "    .dataframe tbody tr th {\n",
              "        vertical-align: top;\n",
              "    }\n",
              "\n",
              "    .dataframe thead th {\n",
              "        text-align: right;\n",
              "    }\n",
              "</style>\n",
              "<table border=\"1\" class=\"dataframe\">\n",
              "  <thead>\n",
              "    <tr style=\"text-align: right;\">\n",
              "      <th></th>\n",
              "      <th>wt1</th>\n",
              "      <th>wt2</th>\n",
              "      <th>wt3</th>\n",
              "      <th>wt4</th>\n",
              "      <th>wt5</th>\n",
              "      <th>wt6</th>\n",
              "      <th>wt7</th>\n",
              "      <th>wt8</th>\n",
              "      <th>wt9</th>\n",
              "      <th>wt10</th>\n",
              "      <th>ko1</th>\n",
              "      <th>ko2</th>\n",
              "      <th>ko3</th>\n",
              "      <th>ko4</th>\n",
              "      <th>ko5</th>\n",
              "      <th>ko6</th>\n",
              "      <th>ko7</th>\n",
              "      <th>ko8</th>\n",
              "      <th>ko9</th>\n",
              "      <th>ko10</th>\n",
              "    </tr>\n",
              "  </thead>\n",
              "  <tbody>\n",
              "    <tr>\n",
              "      <th>gene1</th>\n",
              "      <td>NaN</td>\n",
              "      <td>NaN</td>\n",
              "      <td>NaN</td>\n",
              "      <td>NaN</td>\n",
              "      <td>NaN</td>\n",
              "      <td>NaN</td>\n",
              "      <td>NaN</td>\n",
              "      <td>NaN</td>\n",
              "      <td>NaN</td>\n",
              "      <td>NaN</td>\n",
              "      <td>NaN</td>\n",
              "      <td>NaN</td>\n",
              "      <td>NaN</td>\n",
              "      <td>NaN</td>\n",
              "      <td>NaN</td>\n",
              "      <td>NaN</td>\n",
              "      <td>NaN</td>\n",
              "      <td>NaN</td>\n",
              "      <td>NaN</td>\n",
              "      <td>NaN</td>\n",
              "    </tr>\n",
              "    <tr>\n",
              "      <th>gene2</th>\n",
              "      <td>NaN</td>\n",
              "      <td>NaN</td>\n",
              "      <td>NaN</td>\n",
              "      <td>NaN</td>\n",
              "      <td>NaN</td>\n",
              "      <td>NaN</td>\n",
              "      <td>NaN</td>\n",
              "      <td>NaN</td>\n",
              "      <td>NaN</td>\n",
              "      <td>NaN</td>\n",
              "      <td>NaN</td>\n",
              "      <td>NaN</td>\n",
              "      <td>NaN</td>\n",
              "      <td>NaN</td>\n",
              "      <td>NaN</td>\n",
              "      <td>NaN</td>\n",
              "      <td>NaN</td>\n",
              "      <td>NaN</td>\n",
              "      <td>NaN</td>\n",
              "      <td>NaN</td>\n",
              "    </tr>\n",
              "    <tr>\n",
              "      <th>gene3</th>\n",
              "      <td>NaN</td>\n",
              "      <td>NaN</td>\n",
              "      <td>NaN</td>\n",
              "      <td>NaN</td>\n",
              "      <td>NaN</td>\n",
              "      <td>NaN</td>\n",
              "      <td>NaN</td>\n",
              "      <td>NaN</td>\n",
              "      <td>NaN</td>\n",
              "      <td>NaN</td>\n",
              "      <td>NaN</td>\n",
              "      <td>NaN</td>\n",
              "      <td>NaN</td>\n",
              "      <td>NaN</td>\n",
              "      <td>NaN</td>\n",
              "      <td>NaN</td>\n",
              "      <td>NaN</td>\n",
              "      <td>NaN</td>\n",
              "      <td>NaN</td>\n",
              "      <td>NaN</td>\n",
              "    </tr>\n",
              "    <tr>\n",
              "      <th>gene4</th>\n",
              "      <td>NaN</td>\n",
              "      <td>NaN</td>\n",
              "      <td>NaN</td>\n",
              "      <td>NaN</td>\n",
              "      <td>NaN</td>\n",
              "      <td>NaN</td>\n",
              "      <td>NaN</td>\n",
              "      <td>NaN</td>\n",
              "      <td>NaN</td>\n",
              "      <td>NaN</td>\n",
              "      <td>NaN</td>\n",
              "      <td>NaN</td>\n",
              "      <td>NaN</td>\n",
              "      <td>NaN</td>\n",
              "      <td>NaN</td>\n",
              "      <td>NaN</td>\n",
              "      <td>NaN</td>\n",
              "      <td>NaN</td>\n",
              "      <td>NaN</td>\n",
              "      <td>NaN</td>\n",
              "    </tr>\n",
              "    <tr>\n",
              "      <th>gene5</th>\n",
              "      <td>NaN</td>\n",
              "      <td>NaN</td>\n",
              "      <td>NaN</td>\n",
              "      <td>NaN</td>\n",
              "      <td>NaN</td>\n",
              "      <td>NaN</td>\n",
              "      <td>NaN</td>\n",
              "      <td>NaN</td>\n",
              "      <td>NaN</td>\n",
              "      <td>NaN</td>\n",
              "      <td>NaN</td>\n",
              "      <td>NaN</td>\n",
              "      <td>NaN</td>\n",
              "      <td>NaN</td>\n",
              "      <td>NaN</td>\n",
              "      <td>NaN</td>\n",
              "      <td>NaN</td>\n",
              "      <td>NaN</td>\n",
              "      <td>NaN</td>\n",
              "      <td>NaN</td>\n",
              "    </tr>\n",
              "  </tbody>\n",
              "</table>\n",
              "</div>\n",
              "      <button class=\"colab-df-convert\" onclick=\"convertToInteractive('df-27469516-c1ef-4f86-8ec7-358332bb77d7')\"\n",
              "              title=\"Convert this dataframe to an interactive table.\"\n",
              "              style=\"display:none;\">\n",
              "        \n",
              "  <svg xmlns=\"http://www.w3.org/2000/svg\" height=\"24px\"viewBox=\"0 0 24 24\"\n",
              "       width=\"24px\">\n",
              "    <path d=\"M0 0h24v24H0V0z\" fill=\"none\"/>\n",
              "    <path d=\"M18.56 5.44l.94 2.06.94-2.06 2.06-.94-2.06-.94-.94-2.06-.94 2.06-2.06.94zm-11 1L8.5 8.5l.94-2.06 2.06-.94-2.06-.94L8.5 2.5l-.94 2.06-2.06.94zm10 10l.94 2.06.94-2.06 2.06-.94-2.06-.94-.94-2.06-.94 2.06-2.06.94z\"/><path d=\"M17.41 7.96l-1.37-1.37c-.4-.4-.92-.59-1.43-.59-.52 0-1.04.2-1.43.59L10.3 9.45l-7.72 7.72c-.78.78-.78 2.05 0 2.83L4 21.41c.39.39.9.59 1.41.59.51 0 1.02-.2 1.41-.59l7.78-7.78 2.81-2.81c.8-.78.8-2.07 0-2.86zM5.41 20L4 18.59l7.72-7.72 1.47 1.35L5.41 20z\"/>\n",
              "  </svg>\n",
              "      </button>\n",
              "      \n",
              "  <style>\n",
              "    .colab-df-container {\n",
              "      display:flex;\n",
              "      flex-wrap:wrap;\n",
              "      gap: 12px;\n",
              "    }\n",
              "\n",
              "    .colab-df-convert {\n",
              "      background-color: #E8F0FE;\n",
              "      border: none;\n",
              "      border-radius: 50%;\n",
              "      cursor: pointer;\n",
              "      display: none;\n",
              "      fill: #1967D2;\n",
              "      height: 32px;\n",
              "      padding: 0 0 0 0;\n",
              "      width: 32px;\n",
              "    }\n",
              "\n",
              "    .colab-df-convert:hover {\n",
              "      background-color: #E2EBFA;\n",
              "      box-shadow: 0px 1px 2px rgba(60, 64, 67, 0.3), 0px 1px 3px 1px rgba(60, 64, 67, 0.15);\n",
              "      fill: #174EA6;\n",
              "    }\n",
              "\n",
              "    [theme=dark] .colab-df-convert {\n",
              "      background-color: #3B4455;\n",
              "      fill: #D2E3FC;\n",
              "    }\n",
              "\n",
              "    [theme=dark] .colab-df-convert:hover {\n",
              "      background-color: #434B5C;\n",
              "      box-shadow: 0px 1px 3px 1px rgba(0, 0, 0, 0.15);\n",
              "      filter: drop-shadow(0px 1px 2px rgba(0, 0, 0, 0.3));\n",
              "      fill: #FFFFFF;\n",
              "    }\n",
              "  </style>\n",
              "\n",
              "      <script>\n",
              "        const buttonEl =\n",
              "          document.querySelector('#df-27469516-c1ef-4f86-8ec7-358332bb77d7 button.colab-df-convert');\n",
              "        buttonEl.style.display =\n",
              "          google.colab.kernel.accessAllowed ? 'block' : 'none';\n",
              "\n",
              "        async function convertToInteractive(key) {\n",
              "          const element = document.querySelector('#df-27469516-c1ef-4f86-8ec7-358332bb77d7');\n",
              "          const dataTable =\n",
              "            await google.colab.kernel.invokeFunction('convertToInteractive',\n",
              "                                                     [key], {});\n",
              "          if (!dataTable) return;\n",
              "\n",
              "          const docLinkHtml = 'Like what you see? Visit the ' +\n",
              "            '<a target=\"_blank\" href=https://colab.research.google.com/notebooks/data_table.ipynb>data table notebook</a>'\n",
              "            + ' to learn more about interactive tables.';\n",
              "          element.innerHTML = '';\n",
              "          dataTable['output_type'] = 'display_data';\n",
              "          await google.colab.output.renderOutput(dataTable, element);\n",
              "          const docLink = document.createElement('div');\n",
              "          docLink.innerHTML = docLinkHtml;\n",
              "          element.appendChild(docLink);\n",
              "        }\n",
              "      </script>\n",
              "    </div>\n",
              "  </div>\n",
              "  "
            ]
          },
          "metadata": {},
          "execution_count": 8
        }
      ],
      "source": [
        "data = pd.DataFrame(columns=[*wt, *ko], index=genes)\n",
        "data.head()"
      ]
    },
    {
      "cell_type": "code",
      "execution_count": null,
      "metadata": {
        "id": "fU_BKS5g0FdI"
      },
      "outputs": [],
      "source": [
        "for gene in data.index:\n",
        "    data.loc[gene,'wt1':'wt10'] = np.random.poisson(lam=rd.randrange(5000,10000), size=10)\n",
        "    data.loc[gene,'ko1':'ko10'] = np.random.poisson(lam=rd.randrange(1,5000), size=10)"
      ]
    },
    {
      "cell_type": "code",
      "execution_count": null,
      "metadata": {
        "colab": {
          "base_uri": "https://localhost:8080/"
        },
        "id": "4f7Y9MJD0OZn",
        "outputId": "e17efcc5-f69f-4417-c7d1-df74bf432992"
      },
      "outputs": [
        {
          "output_type": "stream",
          "name": "stdout",
          "text": [
            "         wt1   wt2    wt3    wt4   wt5   wt6    wt7   wt8   wt9  wt10   ko1  \\\n",
            "gene1   8743  8708   8775   8748  8800  8618   8816  8792  8699  8776  2033   \n",
            "gene2   8883  8946   8750   8723  8893  8947   8982  9033  8958  8864  2995   \n",
            "gene3   9843  9841   9725   9777  9888  9763  10039  9755  9839  9897  4014   \n",
            "gene4  10009  9870  10065  10074  9917  9904   9810  9860  9851  9954  1137   \n",
            "gene5   7128  7149   7142   7257  7237  7164   7196  7200  7124  7259   681   \n",
            "\n",
            "        ko2   ko3   ko4   ko5   ko6   ko7   ko8   ko9  ko10  \n",
            "gene1  2038  2092  2170  2114  2158  2106  2121  2111  2097  \n",
            "gene2  3201  3097  3157  3001  3022  3085  3070  3161  3016  \n",
            "gene3  4098  4091  4125  4152  4062  4095  4114  4097  4101  \n",
            "gene4  1153  1123  1118  1074  1029  1131  1166  1076  1130  \n",
            "gene5   667   694   701   673   639   657   714   669   710  \n"
          ]
        }
      ],
      "source": [
        "print(data.head())"
      ]
    },
    {
      "cell_type": "code",
      "execution_count": null,
      "metadata": {
        "colab": {
          "base_uri": "https://localhost:8080/"
        },
        "id": "4WPrgvkx0Phm",
        "outputId": "806c2436-f464-477d-d444-c40d9564b0ad"
      },
      "outputs": [
        {
          "output_type": "stream",
          "name": "stdout",
          "text": [
            "(20, 100)\n"
          ]
        }
      ],
      "source": [
        "print(data.shape)"
      ]
    },
    {
      "cell_type": "code",
      "execution_count": null,
      "metadata": {
        "colab": {
          "base_uri": "https://localhost:8080/",
          "height": 750
        },
        "id": "68hNSaBv0rW8",
        "outputId": "acee8802-6f22-4ec9-bbe6-55e08a44059d"
      },
      "outputs": [
        {
          "output_type": "execute_result",
          "data": {
            "text/plain": [
              "     gene1 gene2  gene3  gene4 gene5 gene6 gene7  gene8 gene9 gene10  ...  \\\n",
              "wt1   8743  8883   9843  10009  7128  8021  6308   9910  9365   5635  ...   \n",
              "wt2   8708  8946   9841   9870  7149  7792  6185   9787  9164   5636  ...   \n",
              "wt3   8775  8750   9725  10065  7142  7925  6398   9828  9257   5653  ...   \n",
              "wt4   8748  8723   9777  10074  7257  7689  6099   9930  9064   5493  ...   \n",
              "wt5   8800  8893   9888   9917  7237  7714  6184  10032  9214   5579  ...   \n",
              "wt6   8618  8947   9763   9904  7164  7668  6148   9896  9178   5599  ...   \n",
              "wt7   8816  8982  10039   9810  7196  7976  6358   9868  9174   5577  ...   \n",
              "wt8   8792  9033   9755   9860  7200  7831  6354   9801  9081   5625  ...   \n",
              "wt9   8699  8958   9839   9851  7124  7796  6207   9903  9079   5646  ...   \n",
              "wt10  8776  8864   9897   9954  7259  7733  6247   9778  9056   5632  ...   \n",
              "ko1   2033  2995   4014   1137   681  2109  3952   2319  2878   1299  ...   \n",
              "ko2   2038  3201   4098   1153   667  1987  3997   2356  2897   1284  ...   \n",
              "ko3   2092  3097   4091   1123   694  2075  4000   2349  2972   1274  ...   \n",
              "ko4   2170  3157   4125   1118   701  2022  4018   2381  2836   1270  ...   \n",
              "ko5   2114  3001   4152   1074   673  2059  3964   2520  2897   1267  ...   \n",
              "ko6   2158  3022   4062   1029   639  1993  4033   2332  3013   1334  ...   \n",
              "ko7   2106  3085   4095   1131   657  2034  4039   2288  2938   1250  ...   \n",
              "ko8   2121  3070   4114   1166   714  2050  3991   2370  2955   1344  ...   \n",
              "ko9   2111  3161   4097   1076   669  2010  4005   2386  2932   1333  ...   \n",
              "ko10  2097  3016   4101   1130   710  2098  3926   2374  2980   1247  ...   \n",
              "\n",
              "     gene91 gene92 gene93 gene94 gene95 gene96 gene97 gene98 gene99 gene100  \n",
              "wt1    5187   6892   6172   8793   9742   5461   8345   6435   7490    9156  \n",
              "wt2    5076   7044   6194   8826   9796   5513   8438   6370   7551    9424  \n",
              "wt3    5214   7044   6222   8710   9648   5480   8474   6326   7595    9261  \n",
              "wt4    5209   7044   6176   8699   9697   5490   8455   6169   7545    9221  \n",
              "wt5    5305   7011   6227   8807   9768   5389   8490   6335   7539    9300  \n",
              "wt6    5302   6917   6216   8674   9656   5405   8354   6327   7617    9256  \n",
              "wt7    5240   6892   6187   8758   9673   5444   8486   6380   7336    9256  \n",
              "wt8    5265   6858   6157   8863   9706   5593   8465   6331   7520    9316  \n",
              "wt9    5263   6851   6223   8678   9651   5465   8543   6165   7452    9114  \n",
              "wt10   5243   7008   6228   8823   9767   5604   8393   6385   7550    9276  \n",
              "ko1     386   1848   2911   1648   3585   3815   3860   4893   3491    2570  \n",
              "ko2     428   1828   2924   1743   3440   3918   3966   4932   3411    2532  \n",
              "ko3     382   1840   2906   1660   3437   3911   3876   4972   3466    2491  \n",
              "ko4     351   1788   2875   1559   3453   3798   3951   4965   3388    2538  \n",
              "ko5     342   1801   2912   1578   3471   3860   3823   5066   3430    2474  \n",
              "ko6     391   1725   2909   1567   3482   3843   4034   5076   3367    2478  \n",
              "ko7     396   1776   2862   1629   3615   3826   4019   4996   3478    2543  \n",
              "ko8     397   1800   2939   1659   3367   3798   3884   4716   3390    2485  \n",
              "ko9     410   1798   2932   1633   3546   3966   3898   5095   3331    2536  \n",
              "ko10    398   1818   2898   1657   3525   3746   4121   5022   3405    2516  \n",
              "\n",
              "[20 rows x 100 columns]"
            ],
            "text/html": [
              "\n",
              "  <div id=\"df-1444446c-236f-405e-b6ee-12ab62415c0b\">\n",
              "    <div class=\"colab-df-container\">\n",
              "      <div>\n",
              "<style scoped>\n",
              "    .dataframe tbody tr th:only-of-type {\n",
              "        vertical-align: middle;\n",
              "    }\n",
              "\n",
              "    .dataframe tbody tr th {\n",
              "        vertical-align: top;\n",
              "    }\n",
              "\n",
              "    .dataframe thead th {\n",
              "        text-align: right;\n",
              "    }\n",
              "</style>\n",
              "<table border=\"1\" class=\"dataframe\">\n",
              "  <thead>\n",
              "    <tr style=\"text-align: right;\">\n",
              "      <th></th>\n",
              "      <th>gene1</th>\n",
              "      <th>gene2</th>\n",
              "      <th>gene3</th>\n",
              "      <th>gene4</th>\n",
              "      <th>gene5</th>\n",
              "      <th>gene6</th>\n",
              "      <th>gene7</th>\n",
              "      <th>gene8</th>\n",
              "      <th>gene9</th>\n",
              "      <th>gene10</th>\n",
              "      <th>...</th>\n",
              "      <th>gene91</th>\n",
              "      <th>gene92</th>\n",
              "      <th>gene93</th>\n",
              "      <th>gene94</th>\n",
              "      <th>gene95</th>\n",
              "      <th>gene96</th>\n",
              "      <th>gene97</th>\n",
              "      <th>gene98</th>\n",
              "      <th>gene99</th>\n",
              "      <th>gene100</th>\n",
              "    </tr>\n",
              "  </thead>\n",
              "  <tbody>\n",
              "    <tr>\n",
              "      <th>wt1</th>\n",
              "      <td>8743</td>\n",
              "      <td>8883</td>\n",
              "      <td>9843</td>\n",
              "      <td>10009</td>\n",
              "      <td>7128</td>\n",
              "      <td>8021</td>\n",
              "      <td>6308</td>\n",
              "      <td>9910</td>\n",
              "      <td>9365</td>\n",
              "      <td>5635</td>\n",
              "      <td>...</td>\n",
              "      <td>5187</td>\n",
              "      <td>6892</td>\n",
              "      <td>6172</td>\n",
              "      <td>8793</td>\n",
              "      <td>9742</td>\n",
              "      <td>5461</td>\n",
              "      <td>8345</td>\n",
              "      <td>6435</td>\n",
              "      <td>7490</td>\n",
              "      <td>9156</td>\n",
              "    </tr>\n",
              "    <tr>\n",
              "      <th>wt2</th>\n",
              "      <td>8708</td>\n",
              "      <td>8946</td>\n",
              "      <td>9841</td>\n",
              "      <td>9870</td>\n",
              "      <td>7149</td>\n",
              "      <td>7792</td>\n",
              "      <td>6185</td>\n",
              "      <td>9787</td>\n",
              "      <td>9164</td>\n",
              "      <td>5636</td>\n",
              "      <td>...</td>\n",
              "      <td>5076</td>\n",
              "      <td>7044</td>\n",
              "      <td>6194</td>\n",
              "      <td>8826</td>\n",
              "      <td>9796</td>\n",
              "      <td>5513</td>\n",
              "      <td>8438</td>\n",
              "      <td>6370</td>\n",
              "      <td>7551</td>\n",
              "      <td>9424</td>\n",
              "    </tr>\n",
              "    <tr>\n",
              "      <th>wt3</th>\n",
              "      <td>8775</td>\n",
              "      <td>8750</td>\n",
              "      <td>9725</td>\n",
              "      <td>10065</td>\n",
              "      <td>7142</td>\n",
              "      <td>7925</td>\n",
              "      <td>6398</td>\n",
              "      <td>9828</td>\n",
              "      <td>9257</td>\n",
              "      <td>5653</td>\n",
              "      <td>...</td>\n",
              "      <td>5214</td>\n",
              "      <td>7044</td>\n",
              "      <td>6222</td>\n",
              "      <td>8710</td>\n",
              "      <td>9648</td>\n",
              "      <td>5480</td>\n",
              "      <td>8474</td>\n",
              "      <td>6326</td>\n",
              "      <td>7595</td>\n",
              "      <td>9261</td>\n",
              "    </tr>\n",
              "    <tr>\n",
              "      <th>wt4</th>\n",
              "      <td>8748</td>\n",
              "      <td>8723</td>\n",
              "      <td>9777</td>\n",
              "      <td>10074</td>\n",
              "      <td>7257</td>\n",
              "      <td>7689</td>\n",
              "      <td>6099</td>\n",
              "      <td>9930</td>\n",
              "      <td>9064</td>\n",
              "      <td>5493</td>\n",
              "      <td>...</td>\n",
              "      <td>5209</td>\n",
              "      <td>7044</td>\n",
              "      <td>6176</td>\n",
              "      <td>8699</td>\n",
              "      <td>9697</td>\n",
              "      <td>5490</td>\n",
              "      <td>8455</td>\n",
              "      <td>6169</td>\n",
              "      <td>7545</td>\n",
              "      <td>9221</td>\n",
              "    </tr>\n",
              "    <tr>\n",
              "      <th>wt5</th>\n",
              "      <td>8800</td>\n",
              "      <td>8893</td>\n",
              "      <td>9888</td>\n",
              "      <td>9917</td>\n",
              "      <td>7237</td>\n",
              "      <td>7714</td>\n",
              "      <td>6184</td>\n",
              "      <td>10032</td>\n",
              "      <td>9214</td>\n",
              "      <td>5579</td>\n",
              "      <td>...</td>\n",
              "      <td>5305</td>\n",
              "      <td>7011</td>\n",
              "      <td>6227</td>\n",
              "      <td>8807</td>\n",
              "      <td>9768</td>\n",
              "      <td>5389</td>\n",
              "      <td>8490</td>\n",
              "      <td>6335</td>\n",
              "      <td>7539</td>\n",
              "      <td>9300</td>\n",
              "    </tr>\n",
              "    <tr>\n",
              "      <th>wt6</th>\n",
              "      <td>8618</td>\n",
              "      <td>8947</td>\n",
              "      <td>9763</td>\n",
              "      <td>9904</td>\n",
              "      <td>7164</td>\n",
              "      <td>7668</td>\n",
              "      <td>6148</td>\n",
              "      <td>9896</td>\n",
              "      <td>9178</td>\n",
              "      <td>5599</td>\n",
              "      <td>...</td>\n",
              "      <td>5302</td>\n",
              "      <td>6917</td>\n",
              "      <td>6216</td>\n",
              "      <td>8674</td>\n",
              "      <td>9656</td>\n",
              "      <td>5405</td>\n",
              "      <td>8354</td>\n",
              "      <td>6327</td>\n",
              "      <td>7617</td>\n",
              "      <td>9256</td>\n",
              "    </tr>\n",
              "    <tr>\n",
              "      <th>wt7</th>\n",
              "      <td>8816</td>\n",
              "      <td>8982</td>\n",
              "      <td>10039</td>\n",
              "      <td>9810</td>\n",
              "      <td>7196</td>\n",
              "      <td>7976</td>\n",
              "      <td>6358</td>\n",
              "      <td>9868</td>\n",
              "      <td>9174</td>\n",
              "      <td>5577</td>\n",
              "      <td>...</td>\n",
              "      <td>5240</td>\n",
              "      <td>6892</td>\n",
              "      <td>6187</td>\n",
              "      <td>8758</td>\n",
              "      <td>9673</td>\n",
              "      <td>5444</td>\n",
              "      <td>8486</td>\n",
              "      <td>6380</td>\n",
              "      <td>7336</td>\n",
              "      <td>9256</td>\n",
              "    </tr>\n",
              "    <tr>\n",
              "      <th>wt8</th>\n",
              "      <td>8792</td>\n",
              "      <td>9033</td>\n",
              "      <td>9755</td>\n",
              "      <td>9860</td>\n",
              "      <td>7200</td>\n",
              "      <td>7831</td>\n",
              "      <td>6354</td>\n",
              "      <td>9801</td>\n",
              "      <td>9081</td>\n",
              "      <td>5625</td>\n",
              "      <td>...</td>\n",
              "      <td>5265</td>\n",
              "      <td>6858</td>\n",
              "      <td>6157</td>\n",
              "      <td>8863</td>\n",
              "      <td>9706</td>\n",
              "      <td>5593</td>\n",
              "      <td>8465</td>\n",
              "      <td>6331</td>\n",
              "      <td>7520</td>\n",
              "      <td>9316</td>\n",
              "    </tr>\n",
              "    <tr>\n",
              "      <th>wt9</th>\n",
              "      <td>8699</td>\n",
              "      <td>8958</td>\n",
              "      <td>9839</td>\n",
              "      <td>9851</td>\n",
              "      <td>7124</td>\n",
              "      <td>7796</td>\n",
              "      <td>6207</td>\n",
              "      <td>9903</td>\n",
              "      <td>9079</td>\n",
              "      <td>5646</td>\n",
              "      <td>...</td>\n",
              "      <td>5263</td>\n",
              "      <td>6851</td>\n",
              "      <td>6223</td>\n",
              "      <td>8678</td>\n",
              "      <td>9651</td>\n",
              "      <td>5465</td>\n",
              "      <td>8543</td>\n",
              "      <td>6165</td>\n",
              "      <td>7452</td>\n",
              "      <td>9114</td>\n",
              "    </tr>\n",
              "    <tr>\n",
              "      <th>wt10</th>\n",
              "      <td>8776</td>\n",
              "      <td>8864</td>\n",
              "      <td>9897</td>\n",
              "      <td>9954</td>\n",
              "      <td>7259</td>\n",
              "      <td>7733</td>\n",
              "      <td>6247</td>\n",
              "      <td>9778</td>\n",
              "      <td>9056</td>\n",
              "      <td>5632</td>\n",
              "      <td>...</td>\n",
              "      <td>5243</td>\n",
              "      <td>7008</td>\n",
              "      <td>6228</td>\n",
              "      <td>8823</td>\n",
              "      <td>9767</td>\n",
              "      <td>5604</td>\n",
              "      <td>8393</td>\n",
              "      <td>6385</td>\n",
              "      <td>7550</td>\n",
              "      <td>9276</td>\n",
              "    </tr>\n",
              "    <tr>\n",
              "      <th>ko1</th>\n",
              "      <td>2033</td>\n",
              "      <td>2995</td>\n",
              "      <td>4014</td>\n",
              "      <td>1137</td>\n",
              "      <td>681</td>\n",
              "      <td>2109</td>\n",
              "      <td>3952</td>\n",
              "      <td>2319</td>\n",
              "      <td>2878</td>\n",
              "      <td>1299</td>\n",
              "      <td>...</td>\n",
              "      <td>386</td>\n",
              "      <td>1848</td>\n",
              "      <td>2911</td>\n",
              "      <td>1648</td>\n",
              "      <td>3585</td>\n",
              "      <td>3815</td>\n",
              "      <td>3860</td>\n",
              "      <td>4893</td>\n",
              "      <td>3491</td>\n",
              "      <td>2570</td>\n",
              "    </tr>\n",
              "    <tr>\n",
              "      <th>ko2</th>\n",
              "      <td>2038</td>\n",
              "      <td>3201</td>\n",
              "      <td>4098</td>\n",
              "      <td>1153</td>\n",
              "      <td>667</td>\n",
              "      <td>1987</td>\n",
              "      <td>3997</td>\n",
              "      <td>2356</td>\n",
              "      <td>2897</td>\n",
              "      <td>1284</td>\n",
              "      <td>...</td>\n",
              "      <td>428</td>\n",
              "      <td>1828</td>\n",
              "      <td>2924</td>\n",
              "      <td>1743</td>\n",
              "      <td>3440</td>\n",
              "      <td>3918</td>\n",
              "      <td>3966</td>\n",
              "      <td>4932</td>\n",
              "      <td>3411</td>\n",
              "      <td>2532</td>\n",
              "    </tr>\n",
              "    <tr>\n",
              "      <th>ko3</th>\n",
              "      <td>2092</td>\n",
              "      <td>3097</td>\n",
              "      <td>4091</td>\n",
              "      <td>1123</td>\n",
              "      <td>694</td>\n",
              "      <td>2075</td>\n",
              "      <td>4000</td>\n",
              "      <td>2349</td>\n",
              "      <td>2972</td>\n",
              "      <td>1274</td>\n",
              "      <td>...</td>\n",
              "      <td>382</td>\n",
              "      <td>1840</td>\n",
              "      <td>2906</td>\n",
              "      <td>1660</td>\n",
              "      <td>3437</td>\n",
              "      <td>3911</td>\n",
              "      <td>3876</td>\n",
              "      <td>4972</td>\n",
              "      <td>3466</td>\n",
              "      <td>2491</td>\n",
              "    </tr>\n",
              "    <tr>\n",
              "      <th>ko4</th>\n",
              "      <td>2170</td>\n",
              "      <td>3157</td>\n",
              "      <td>4125</td>\n",
              "      <td>1118</td>\n",
              "      <td>701</td>\n",
              "      <td>2022</td>\n",
              "      <td>4018</td>\n",
              "      <td>2381</td>\n",
              "      <td>2836</td>\n",
              "      <td>1270</td>\n",
              "      <td>...</td>\n",
              "      <td>351</td>\n",
              "      <td>1788</td>\n",
              "      <td>2875</td>\n",
              "      <td>1559</td>\n",
              "      <td>3453</td>\n",
              "      <td>3798</td>\n",
              "      <td>3951</td>\n",
              "      <td>4965</td>\n",
              "      <td>3388</td>\n",
              "      <td>2538</td>\n",
              "    </tr>\n",
              "    <tr>\n",
              "      <th>ko5</th>\n",
              "      <td>2114</td>\n",
              "      <td>3001</td>\n",
              "      <td>4152</td>\n",
              "      <td>1074</td>\n",
              "      <td>673</td>\n",
              "      <td>2059</td>\n",
              "      <td>3964</td>\n",
              "      <td>2520</td>\n",
              "      <td>2897</td>\n",
              "      <td>1267</td>\n",
              "      <td>...</td>\n",
              "      <td>342</td>\n",
              "      <td>1801</td>\n",
              "      <td>2912</td>\n",
              "      <td>1578</td>\n",
              "      <td>3471</td>\n",
              "      <td>3860</td>\n",
              "      <td>3823</td>\n",
              "      <td>5066</td>\n",
              "      <td>3430</td>\n",
              "      <td>2474</td>\n",
              "    </tr>\n",
              "    <tr>\n",
              "      <th>ko6</th>\n",
              "      <td>2158</td>\n",
              "      <td>3022</td>\n",
              "      <td>4062</td>\n",
              "      <td>1029</td>\n",
              "      <td>639</td>\n",
              "      <td>1993</td>\n",
              "      <td>4033</td>\n",
              "      <td>2332</td>\n",
              "      <td>3013</td>\n",
              "      <td>1334</td>\n",
              "      <td>...</td>\n",
              "      <td>391</td>\n",
              "      <td>1725</td>\n",
              "      <td>2909</td>\n",
              "      <td>1567</td>\n",
              "      <td>3482</td>\n",
              "      <td>3843</td>\n",
              "      <td>4034</td>\n",
              "      <td>5076</td>\n",
              "      <td>3367</td>\n",
              "      <td>2478</td>\n",
              "    </tr>\n",
              "    <tr>\n",
              "      <th>ko7</th>\n",
              "      <td>2106</td>\n",
              "      <td>3085</td>\n",
              "      <td>4095</td>\n",
              "      <td>1131</td>\n",
              "      <td>657</td>\n",
              "      <td>2034</td>\n",
              "      <td>4039</td>\n",
              "      <td>2288</td>\n",
              "      <td>2938</td>\n",
              "      <td>1250</td>\n",
              "      <td>...</td>\n",
              "      <td>396</td>\n",
              "      <td>1776</td>\n",
              "      <td>2862</td>\n",
              "      <td>1629</td>\n",
              "      <td>3615</td>\n",
              "      <td>3826</td>\n",
              "      <td>4019</td>\n",
              "      <td>4996</td>\n",
              "      <td>3478</td>\n",
              "      <td>2543</td>\n",
              "    </tr>\n",
              "    <tr>\n",
              "      <th>ko8</th>\n",
              "      <td>2121</td>\n",
              "      <td>3070</td>\n",
              "      <td>4114</td>\n",
              "      <td>1166</td>\n",
              "      <td>714</td>\n",
              "      <td>2050</td>\n",
              "      <td>3991</td>\n",
              "      <td>2370</td>\n",
              "      <td>2955</td>\n",
              "      <td>1344</td>\n",
              "      <td>...</td>\n",
              "      <td>397</td>\n",
              "      <td>1800</td>\n",
              "      <td>2939</td>\n",
              "      <td>1659</td>\n",
              "      <td>3367</td>\n",
              "      <td>3798</td>\n",
              "      <td>3884</td>\n",
              "      <td>4716</td>\n",
              "      <td>3390</td>\n",
              "      <td>2485</td>\n",
              "    </tr>\n",
              "    <tr>\n",
              "      <th>ko9</th>\n",
              "      <td>2111</td>\n",
              "      <td>3161</td>\n",
              "      <td>4097</td>\n",
              "      <td>1076</td>\n",
              "      <td>669</td>\n",
              "      <td>2010</td>\n",
              "      <td>4005</td>\n",
              "      <td>2386</td>\n",
              "      <td>2932</td>\n",
              "      <td>1333</td>\n",
              "      <td>...</td>\n",
              "      <td>410</td>\n",
              "      <td>1798</td>\n",
              "      <td>2932</td>\n",
              "      <td>1633</td>\n",
              "      <td>3546</td>\n",
              "      <td>3966</td>\n",
              "      <td>3898</td>\n",
              "      <td>5095</td>\n",
              "      <td>3331</td>\n",
              "      <td>2536</td>\n",
              "    </tr>\n",
              "    <tr>\n",
              "      <th>ko10</th>\n",
              "      <td>2097</td>\n",
              "      <td>3016</td>\n",
              "      <td>4101</td>\n",
              "      <td>1130</td>\n",
              "      <td>710</td>\n",
              "      <td>2098</td>\n",
              "      <td>3926</td>\n",
              "      <td>2374</td>\n",
              "      <td>2980</td>\n",
              "      <td>1247</td>\n",
              "      <td>...</td>\n",
              "      <td>398</td>\n",
              "      <td>1818</td>\n",
              "      <td>2898</td>\n",
              "      <td>1657</td>\n",
              "      <td>3525</td>\n",
              "      <td>3746</td>\n",
              "      <td>4121</td>\n",
              "      <td>5022</td>\n",
              "      <td>3405</td>\n",
              "      <td>2516</td>\n",
              "    </tr>\n",
              "  </tbody>\n",
              "</table>\n",
              "<p>20 rows × 100 columns</p>\n",
              "</div>\n",
              "      <button class=\"colab-df-convert\" onclick=\"convertToInteractive('df-1444446c-236f-405e-b6ee-12ab62415c0b')\"\n",
              "              title=\"Convert this dataframe to an interactive table.\"\n",
              "              style=\"display:none;\">\n",
              "        \n",
              "  <svg xmlns=\"http://www.w3.org/2000/svg\" height=\"24px\"viewBox=\"0 0 24 24\"\n",
              "       width=\"24px\">\n",
              "    <path d=\"M0 0h24v24H0V0z\" fill=\"none\"/>\n",
              "    <path d=\"M18.56 5.44l.94 2.06.94-2.06 2.06-.94-2.06-.94-.94-2.06-.94 2.06-2.06.94zm-11 1L8.5 8.5l.94-2.06 2.06-.94-2.06-.94L8.5 2.5l-.94 2.06-2.06.94zm10 10l.94 2.06.94-2.06 2.06-.94-2.06-.94-.94-2.06-.94 2.06-2.06.94z\"/><path d=\"M17.41 7.96l-1.37-1.37c-.4-.4-.92-.59-1.43-.59-.52 0-1.04.2-1.43.59L10.3 9.45l-7.72 7.72c-.78.78-.78 2.05 0 2.83L4 21.41c.39.39.9.59 1.41.59.51 0 1.02-.2 1.41-.59l7.78-7.78 2.81-2.81c.8-.78.8-2.07 0-2.86zM5.41 20L4 18.59l7.72-7.72 1.47 1.35L5.41 20z\"/>\n",
              "  </svg>\n",
              "      </button>\n",
              "      \n",
              "  <style>\n",
              "    .colab-df-container {\n",
              "      display:flex;\n",
              "      flex-wrap:wrap;\n",
              "      gap: 12px;\n",
              "    }\n",
              "\n",
              "    .colab-df-convert {\n",
              "      background-color: #E8F0FE;\n",
              "      border: none;\n",
              "      border-radius: 50%;\n",
              "      cursor: pointer;\n",
              "      display: none;\n",
              "      fill: #1967D2;\n",
              "      height: 32px;\n",
              "      padding: 0 0 0 0;\n",
              "      width: 32px;\n",
              "    }\n",
              "\n",
              "    .colab-df-convert:hover {\n",
              "      background-color: #E2EBFA;\n",
              "      box-shadow: 0px 1px 2px rgba(60, 64, 67, 0.3), 0px 1px 3px 1px rgba(60, 64, 67, 0.15);\n",
              "      fill: #174EA6;\n",
              "    }\n",
              "\n",
              "    [theme=dark] .colab-df-convert {\n",
              "      background-color: #3B4455;\n",
              "      fill: #D2E3FC;\n",
              "    }\n",
              "\n",
              "    [theme=dark] .colab-df-convert:hover {\n",
              "      background-color: #434B5C;\n",
              "      box-shadow: 0px 1px 3px 1px rgba(0, 0, 0, 0.15);\n",
              "      filter: drop-shadow(0px 1px 2px rgba(0, 0, 0, 0.3));\n",
              "      fill: #FFFFFF;\n",
              "    }\n",
              "  </style>\n",
              "\n",
              "      <script>\n",
              "        const buttonEl =\n",
              "          document.querySelector('#df-1444446c-236f-405e-b6ee-12ab62415c0b button.colab-df-convert');\n",
              "        buttonEl.style.display =\n",
              "          google.colab.kernel.accessAllowed ? 'block' : 'none';\n",
              "\n",
              "        async function convertToInteractive(key) {\n",
              "          const element = document.querySelector('#df-1444446c-236f-405e-b6ee-12ab62415c0b');\n",
              "          const dataTable =\n",
              "            await google.colab.kernel.invokeFunction('convertToInteractive',\n",
              "                                                     [key], {});\n",
              "          if (!dataTable) return;\n",
              "\n",
              "          const docLinkHtml = 'Like what you see? Visit the ' +\n",
              "            '<a target=\"_blank\" href=https://colab.research.google.com/notebooks/data_table.ipynb>data table notebook</a>'\n",
              "            + ' to learn more about interactive tables.';\n",
              "          element.innerHTML = '';\n",
              "          dataTable['output_type'] = 'display_data';\n",
              "          await google.colab.output.renderOutput(dataTable, element);\n",
              "          const docLink = document.createElement('div');\n",
              "          docLink.innerHTML = docLinkHtml;\n",
              "          element.appendChild(docLink);\n",
              "        }\n",
              "      </script>\n",
              "    </div>\n",
              "  </div>\n",
              "  "
            ]
          },
          "metadata": {},
          "execution_count": 13
        }
      ],
      "source": [
        "data=data.T\n",
        "data"
      ]
    },
    {
      "cell_type": "markdown",
      "metadata": {
        "id": "46fmWbbO00B3"
      },
      "source": [
        "Data yang dimiliki adalah data dengan 100 fitur (genes) ditunjukkan oleh **KOLOM**. Dan 10 observasi data **BARIS**"
      ]
    },
    {
      "cell_type": "markdown",
      "metadata": {
        "id": "sfG1jg1m1BIw"
      },
      "source": [
        "# Perform PCA on the data"
      ]
    },
    {
      "cell_type": "markdown",
      "metadata": {
        "id": "VJLt70OY1WVT"
      },
      "source": [
        "scale = $\\frac{(measure-mean)^2}{n.measurements}$"
      ]
    },
    {
      "cell_type": "code",
      "execution_count": null,
      "metadata": {
        "id": "J0N5c_Z30zio"
      },
      "outputs": [],
      "source": [
        "# First center and scale the data\n",
        "scaled_data = preprocessing.scale(data)"
      ]
    },
    {
      "cell_type": "code",
      "execution_count": null,
      "metadata": {
        "colab": {
          "base_uri": "https://localhost:8080/"
        },
        "id": "CxrmMcAamkKn",
        "outputId": "69c2a5f7-3784-42bb-a5da-b88c1bb1d1e6"
      },
      "outputs": [
        {
          "output_type": "execute_result",
          "data": {
            "text/plain": [
              "array([[ 0.99853443,  0.9944779 ,  1.00192816, ...,  1.15558556,\n",
              "         0.98515139,  0.96958035],\n",
              "       [ 0.98799899,  1.01612836,  1.0012317 , ...,  1.06016755,\n",
              "         1.01486571,  1.04907238],\n",
              "       [ 1.00816684,  0.94877137,  0.96083699, ...,  0.99557689,\n",
              "         1.03629899,  1.00072462],\n",
              "       ...,\n",
              "       [-0.99477177, -1.00320682, -0.99308311, ..., -1.36785395,\n",
              "        -1.01204041, -1.00911874],\n",
              "       [-0.9977819 , -0.97193393, -0.99900302, ..., -0.81149352,\n",
              "        -1.04078049, -0.99399152],\n",
              "       [-1.00199608, -1.02176436, -0.9976101 , ..., -0.91865529,\n",
              "        -1.00473361, -0.99992376]])"
            ]
          },
          "metadata": {},
          "execution_count": 17
        }
      ],
      "source": [
        "scaled_data"
      ]
    },
    {
      "cell_type": "code",
      "execution_count": null,
      "metadata": {
        "id": "UIgtoxDf23ax"
      },
      "outputs": [],
      "source": [
        "pca = PCA() # create a PCA object\n",
        "pca.fit(scaled_data) # do the math\n",
        "pca_data = pca.transform(scaled_data) # get PCA coordinates for scaled_data"
      ]
    },
    {
      "cell_type": "markdown",
      "metadata": {
        "id": "0jbJQxa83I0Z"
      },
      "source": [
        "# Draw a scree plot and a PCA plot"
      ]
    },
    {
      "cell_type": "code",
      "execution_count": null,
      "metadata": {
        "colab": {
          "base_uri": "https://localhost:8080/",
          "height": 295
        },
        "id": "dB3bxqO83Jjc",
        "outputId": "f2b47f43-3f26-480e-df7c-a0c4263f51f8"
      },
      "outputs": [
        {
          "output_type": "display_data",
          "data": {
            "text/plain": [
              "<Figure size 432x288 with 1 Axes>"
            ],
            "image/png": "[encoded data removed]"
          },
          "metadata": {
            "needs_background": "light"
          }
        }
      ],
      "source": [
        "#The following code constructs the Scree plot\n",
        "per_var = np.round(pca.explained_variance_ratio_* 100, decimals=1)\n",
        "labels = ['PC' + str(x) for x in range(1, len(per_var)+1)]\n",
        "\n",
        "plt.bar(x=range(1,len(per_var)+1), height=per_var, tick_label=labels)\n",
        "plt.ylabel('Percentage of Explained Variance')\n",
        "plt.xlabel('Principal Component')\n",
        "plt.title('Scree Plot')\n",
        "plt.show()"
      ]
    },
    {
      "cell_type": "code",
      "execution_count": null,
      "metadata": {
        "colab": {
          "base_uri": "https://localhost:8080/"
        },
        "id": "2POKkl_9CBCX",
        "outputId": "f73e37e6-f635-4edb-e664-79d440933165"
      },
      "outputs": [
        {
          "output_type": "execute_result",
          "data": {
            "text/plain": [
              "array([99.6,  0.1,  0.1,  0. ,  0. ,  0. ,  0. ,  0. ,  0. ,  0. ,  0. ,\n",
              "        0. ,  0. ,  0. ,  0. ,  0. ,  0. ,  0. ,  0. ,  0. ])"
            ]
          },
          "metadata": {},
          "execution_count": 20
        }
      ],
      "source": [
        "np.round(pca.explained_variance_ratio_* 100, decimals=1)"
      ]
    },
    {
      "cell_type": "code",
      "execution_count": null,
      "metadata": {
        "colab": {
          "base_uri": "https://localhost:8080/",
          "height": 295
        },
        "id": "xkdrH4To65uR",
        "outputId": "d3499d85-2c23-4ac0-d668-67229b06cc58"
      },
      "outputs": [
        {
          "output_type": "display_data",
          "data": {
            "text/plain": [
              "<Figure size 432x288 with 1 Axes>"
            ],
            "image/png": "[encoded data removed]"
          },
          "metadata": {
            "needs_background": "light"
          }
        }
      ],
      "source": [
        "\n",
        "#the following code makes a fancy looking plot using PC1 and PC2\n",
        "pca_df = pd.DataFrame(pca_data, index=[*wt, *ko], columns=labels)\n",
        "\n",
        "plt.scatter(pca_df.PC1, pca_df.PC2)\n",
        "plt.title('My PCA Graph')\n",
        "plt.xlabel('PC1 - {0}%'.format(per_var[0]))\n",
        "plt.ylabel('PC2 - {0}%'.format(per_var[1]))\n",
        "\n",
        "for sample in pca_df.index:\n",
        "    plt.annotate(sample, (pca_df.PC1.loc[sample], pca_df.PC2.loc[sample]))\n",
        "\n",
        "plt.show()"
      ]
    },
    {
      "cell_type": "markdown",
      "metadata": {
        "id": "zx45UoT7CZgw"
      },
      "source": [
        "**Insight**\n",
        "\n",
        "\n",
        "\n",
        "*   Secara umum data terdiri atas 2 cluster yaitu ko dan wt\n",
        "*   Semakin jauh jarak titik observasi semakin jauh karakteristiknya\n",
        "*   Nilai informasi yang ditangkap oleh visualisi diatas PC 1 sebesar 98.3%\n",
        "\n",
        "\n",
        "\n",
        "\n"
      ]
    },
    {
      "cell_type": "markdown",
      "metadata": {
        "id": "tZIi605X-o_W"
      },
      "source": [
        "# Determine which genes had the biggest influence on PC1"
      ]
    },
    {
      "cell_type": "code",
      "execution_count": null,
      "metadata": {
        "colab": {
          "base_uri": "https://localhost:8080/"
        },
        "id": "sUP9UA1F-pzG",
        "outputId": "8fbe9f7c-6a79-4692-a0e4-1f9bf19e0529"
      },
      "outputs": [
        {
          "output_type": "execute_result",
          "data": {
            "text/plain": [
              "gene1     -0.100170\n",
              "gene2     -0.100142\n",
              "gene3     -0.100154\n",
              "gene4     -0.100164\n",
              "gene5     -0.100170\n",
              "             ...   \n",
              "gene96    -0.099863\n",
              "gene97    -0.100125\n",
              "gene98    -0.099228\n",
              "gene99    -0.100128\n",
              "gene100   -0.100164\n",
              "Length: 100, dtype: float64"
            ]
          },
          "metadata": {},
          "execution_count": 22
        }
      ],
      "source": [
        "## get the name of the top 10 measurements (genes) that contribute\n",
        "## most to pc1.\n",
        "## first, get the loading scores\n",
        "loading_scores = pd.Series(pca.components_[0], index=genes)\n",
        "loading_scores"
      ]
    },
    {
      "cell_type": "markdown",
      "metadata": {
        "id": "rMCsUT-L_pYD"
      },
      "source": [
        "Loading score menunjukkan nilai korelasi fitur terhadap PC, semakin besar loading score semakin memberi kontribusi yang besar terhadap PC"
      ]
    },
    {
      "cell_type": "code",
      "execution_count": null,
      "metadata": {
        "colab": {
          "base_uri": "https://localhost:8080/"
        },
        "id": "u-rO5Rh3_Fpo",
        "outputId": "11795d8e-5885-4f50-a223-f4fb2c4a4111"
      },
      "outputs": [
        {
          "output_type": "execute_result",
          "data": {
            "text/plain": [
              "gene47    0.100174\n",
              "gene78    0.100173\n",
              "gene28    0.100172\n",
              "gene44    0.100172\n",
              "gene70    0.100171\n",
              "            ...   \n",
              "gene81    0.099086\n",
              "gene25    0.098955\n",
              "gene17    0.098613\n",
              "gene67    0.097967\n",
              "gene88    0.095535\n",
              "Length: 100, dtype: float64"
            ]
          },
          "metadata": {},
          "execution_count": 23
        }
      ],
      "source": [
        "## now sort the loading scores based on their magnitude (besar ke kecil)\n",
        "sorted_loading_scores = loading_scores.abs().sort_values(ascending=False)\n",
        "sorted_loading_scores"
      ]
    },
    {
      "cell_type": "code",
      "execution_count": null,
      "metadata": {
        "id": "yTqZCYP2ABvu"
      },
      "outputs": [],
      "source": [
        "# get the names of the top 10 genes\n",
        "top_20_genes = sorted_loading_scores[0:20].index.values"
      ]
    },
    {
      "cell_type": "code",
      "execution_count": null,
      "metadata": {
        "colab": {
          "base_uri": "https://localhost:8080/"
        },
        "id": "4lK7WJkbADJX",
        "outputId": "1f91e4a8-581e-419b-df63-fe787ef833b9"
      },
      "outputs": [
        {
          "output_type": "stream",
          "name": "stdout",
          "text": [
            "gene47    -0.100174\n",
            "gene78    -0.100173\n",
            "gene28    -0.100172\n",
            "gene44    -0.100172\n",
            "gene70    -0.100171\n",
            "gene23    -0.100171\n",
            "gene52    -0.100171\n",
            "gene55    -0.100170\n",
            "gene1     -0.100170\n",
            "gene5     -0.100170\n",
            "gene56    -0.100169\n",
            "gene62    -0.100169\n",
            "gene32    -0.100169\n",
            "gene8     -0.100165\n",
            "gene93    -0.100165\n",
            "gene71    -0.100165\n",
            "gene49    -0.100165\n",
            "gene100   -0.100164\n",
            "gene4     -0.100164\n",
            "gene20    -0.100164\n",
            "dtype: float64\n"
          ]
        }
      ],
      "source": [
        "## print the gene names and their scores (and +/- sign)\n",
        "print(loading_scores[top_20_genes])"
      ]
    },
    {
      "cell_type": "markdown",
      "metadata": {
        "id": "IfTOSKZKqSDG"
      },
      "source": [
        "10 variabel yang memberikan impact tertinggi pada PC10 variabel yang memberikan impact tertinggi pada PC"
      ]
    },
    {
      "cell_type": "markdown",
      "metadata": {
        "id": "lVIcq8IeBwKZ"
      },
      "source": [
        "PCA bagian dari Unsupervised Learning\n",
        "\n",
        "PCA dapat Melihat karakteristik data high dimensi\n",
        "\n"
      ]
    },
    {
      "cell_type": "markdown",
      "source": [
        "# Hasil yang diperoleh sesudah modifikasi\n",
        "##Perubahan yang dilakukan pada code:\n",
        "Menambahkan Kolom WT dan KO menjadi masing- masing 10 kolom. Mengubah range nilai dari Wt menjadi 5000-10000 , dan range nilai KO menjadi 1 - 5000. Mengambil nilai top 20 genes\n",
        "\n"
      ],
      "metadata": {
        "id": "wfEIb50C5Kz1"
      }
    },
    {
      "cell_type": "markdown",
      "source": [
        "##Perbandingan hasil:\n",
        "Perubahan nilai pada kolom. Menghasilkan nilai PCA yang lebi besar, dari 98,3 % menjadi 99,6%. Ditampilkan top 20 variabel yang memberikan impact tertinggi pada PC10 variabel yang memberikan impact tertinggi pada PC. Semakin banyak klaster wt atau wo dan semkain besar nilai random range, maka menghasilkan nilai pca yang lebih besar."
      ],
      "metadata": {
        "id": "4hJoj-1v72vh"
      }
    }
  ],
  "metadata": {
    "colab": {
      "provenance": []
    },
    "kernelspec": {
      "display_name": "Python 3",
      "name": "python3"
    },
    "language_info": {
      "name": "python"
    }
  },
  "nbformat": 4,
  "nbformat_minor": 0
}